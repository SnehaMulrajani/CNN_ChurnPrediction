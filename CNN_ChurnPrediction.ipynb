{
 "cells": [
  {
   "cell_type": "code",
   "execution_count": 1,
   "metadata": {},
   "outputs": [],
   "source": [
    "import pandas as pd\n",
    "from matplotlib import pyplot as plt\n",
    "%matplotlib inline\n",
    "import numpy as np\n",
    "import time\n",
    "from sklearn.preprocessing import MinMaxScaler\n",
    "import tensorflow as tf\n",
    "from tensorflow.keras import datasets, layers, models\n",
    "from sklearn.model_selection import train_test_split"
   ]
  },
  {
   "cell_type": "code",
   "execution_count": 2,
   "metadata": {},
   "outputs": [],
   "source": [
    "df = pd.read_csv('E:\\SnehaWork\\AIProject\\Dataset\\Customer-Churn.csv')"
   ]
  },
  {
   "cell_type": "code",
   "execution_count": 3,
   "metadata": {},
   "outputs": [
    {
     "name": "stdout",
     "output_type": "stream",
     "text": [
      "5174 1869\n"
     ]
    },
    {
     "data": {
      "text/plain": [
       "['customerID',\n",
       " 'gender',\n",
       " 'SeniorCitizen',\n",
       " 'Partner',\n",
       " 'Dependents',\n",
       " 'tenure',\n",
       " 'PhoneService',\n",
       " 'MultipleLines',\n",
       " 'InternetService',\n",
       " 'OnlineSecurity',\n",
       " 'OnlineBackup',\n",
       " 'DeviceProtection',\n",
       " 'TechSupport',\n",
       " 'StreamingTV',\n",
       " 'StreamingMovies',\n",
       " 'Contract',\n",
       " 'PaperlessBilling',\n",
       " 'PaymentMethod',\n",
       " 'MonthlyCharges',\n",
       " 'TotalCharges',\n",
       " 'Churn']"
      ]
     },
     "execution_count": 3,
     "metadata": {},
     "output_type": "execute_result"
    }
   ],
   "source": [
    "Churned = df[df.Churn == 'Yes']\n",
    "NonChurned = df[df.Churn == 'No']\n",
    "\n",
    "number_of_Churned = len(Churned)\n",
    "number_of_NonChurned = len(NonChurned)\n",
    "\n",
    "Churned_percentage = round((number_of_Churned / (number_of_Churned + number_of_NonChurned)) * 100, 2)\n",
    "valid_percentage = round((number_of_NonChurned / (number_of_Churned + number_of_NonChurned)) * 100, 2)\n",
    "print(number_of_NonChurned,number_of_Churned)\n",
    "df.columns.tolist()"
   ]
  },
  {
   "cell_type": "code",
   "execution_count": 4,
   "metadata": {},
   "outputs": [],
   "source": [
    "#df.dtypes\n",
    "#count yes and no on base data, train and test"
   ]
  },
  {
   "cell_type": "code",
   "execution_count": 5,
   "metadata": {},
   "outputs": [],
   "source": [
    "df.drop('customerID',axis='columns',inplace=True)"
   ]
  },
  {
   "cell_type": "code",
   "execution_count": 6,
   "metadata": {},
   "outputs": [
    {
     "data": {
      "text/plain": [
       "(11, 20)"
      ]
     },
     "execution_count": 6,
     "metadata": {},
     "output_type": "execute_result"
    }
   ],
   "source": [
    "#error='coerce' ignores the errors. Conversion for all except for error values i.e. empty spaces. \n",
    "#.isnull() gives columns which have empty spaces\n",
    "#shows the data which has TotalCharges as null. Good to drop these\n",
    "\n",
    "df[pd.to_numeric(df.TotalCharges,errors='coerce').isnull()].shape"
   ]
  },
  {
   "cell_type": "code",
   "execution_count": 7,
   "metadata": {},
   "outputs": [],
   "source": [
    "#Drop rows with TotalCharges as null\n",
    "\n",
    "df1 = df[df.TotalCharges!=' ']"
   ]
  },
  {
   "cell_type": "code",
   "execution_count": 8,
   "metadata": {},
   "outputs": [
    {
     "name": "stderr",
     "output_type": "stream",
     "text": [
      "C:\\Users\\USER\\Anaconda3\\lib\\site-packages\\pandas\\core\\generic.py:5208: SettingWithCopyWarning: \n",
      "A value is trying to be set on a copy of a slice from a DataFrame.\n",
      "Try using .loc[row_indexer,col_indexer] = value instead\n",
      "\n",
      "See the caveats in the documentation: http://pandas.pydata.org/pandas-docs/stable/user_guide/indexing.html#returning-a-view-versus-a-copy\n",
      "  self[name] = value\n"
     ]
    }
   ],
   "source": [
    "df1.TotalCharges = pd.to_numeric(df1.TotalCharges)"
   ]
  },
  {
   "cell_type": "code",
   "execution_count": 9,
   "metadata": {},
   "outputs": [
    {
     "name": "stderr",
     "output_type": "stream",
     "text": [
      "C:\\Users\\USER\\Anaconda3\\lib\\site-packages\\pandas\\core\\frame.py:4263: SettingWithCopyWarning: \n",
      "A value is trying to be set on a copy of a slice from a DataFrame\n",
      "\n",
      "See the caveats in the documentation: http://pandas.pydata.org/pandas-docs/stable/user_guide/indexing.html#returning-a-view-versus-a-copy\n",
      "  method=method,\n"
     ]
    }
   ],
   "source": [
    "df1.replace('No internet service','No',inplace=True)\n",
    "df1.replace('No phone service','No',inplace=True)"
   ]
  },
  {
   "cell_type": "code",
   "execution_count": 10,
   "metadata": {},
   "outputs": [
    {
     "name": "stderr",
     "output_type": "stream",
     "text": [
      "C:\\Users\\USER\\Anaconda3\\lib\\site-packages\\pandas\\core\\generic.py:6786: SettingWithCopyWarning: \n",
      "A value is trying to be set on a copy of a slice from a DataFrame\n",
      "\n",
      "See the caveats in the documentation: http://pandas.pydata.org/pandas-docs/stable/user_guide/indexing.html#returning-a-view-versus-a-copy\n",
      "  self._update_inplace(new_data)\n"
     ]
    }
   ],
   "source": [
    "#replace Yes/No to 1/0 since ML doesn't understand text\n",
    "\n",
    "yes_no_columns = ['Partner','Dependents','PhoneService','MultipleLines','OnlineSecurity','OnlineBackup',\n",
    "                  'DeviceProtection','TechSupport','StreamingTV','StreamingMovies','PaperlessBilling','Churn']\n",
    "\n",
    "for col in yes_no_columns:\n",
    "    df1[col].replace({'Yes': 1,'No': 0},inplace=True)"
   ]
  },
  {
   "cell_type": "code",
   "execution_count": 11,
   "metadata": {},
   "outputs": [],
   "source": [
    "df1['gender'].replace({'Male':1,'Female':0},inplace=True)"
   ]
  },
  {
   "cell_type": "code",
   "execution_count": 12,
   "metadata": {},
   "outputs": [],
   "source": [
    "#One hot encoding for multiclass i.e. InternetService, Contract, PaymentMethod\n",
    "\n",
    "multiclass_col=['InternetService', 'Contract', 'PaymentMethod']\n",
    "df1 = pd.get_dummies(data=df1,columns=multiclass_col)"
   ]
  },
  {
   "cell_type": "code",
   "execution_count": 13,
   "metadata": {},
   "outputs": [],
   "source": [
    "#scaling the values between 1 and 0 for below\n",
    "cols_to_scale = ['tenure','MonthlyCharges','TotalCharges']\n",
    "\n",
    "#MinMaxScaler scales the data between 0 and 1\n",
    "scaler = MinMaxScaler()\n",
    "\n",
    "df1[cols_to_scale] = scaler.fit_transform(df1[cols_to_scale])"
   ]
  },
  {
   "cell_type": "code",
   "execution_count": 14,
   "metadata": {},
   "outputs": [],
   "source": [
    "def print_unique_col_values(df):\n",
    "    for column in df:\n",
    "        print(f'{column} : {df[column].unique()}')"
   ]
  },
  {
   "cell_type": "code",
   "execution_count": 15,
   "metadata": {},
   "outputs": [
    {
     "name": "stdout",
     "output_type": "stream",
     "text": [
      "gender : [0 1]\n",
      "SeniorCitizen : [0 1]\n",
      "Partner : [1 0]\n",
      "Dependents : [0 1]\n",
      "tenure : [0.         0.46478873 0.01408451 0.61971831 0.09859155 0.29577465\n",
      " 0.12676056 0.38028169 0.85915493 0.16901408 0.21126761 0.8028169\n",
      " 0.67605634 0.33802817 0.95774648 0.71830986 0.98591549 0.28169014\n",
      " 0.15492958 0.4084507  0.64788732 1.         0.22535211 0.36619718\n",
      " 0.05633803 0.63380282 0.14084507 0.97183099 0.87323944 0.5915493\n",
      " 0.1971831  0.83098592 0.23943662 0.91549296 0.11267606 0.02816901\n",
      " 0.42253521 0.69014085 0.88732394 0.77464789 0.08450704 0.57746479\n",
      " 0.47887324 0.66197183 0.3943662  0.90140845 0.52112676 0.94366197\n",
      " 0.43661972 0.76056338 0.50704225 0.49295775 0.56338028 0.07042254\n",
      " 0.04225352 0.45070423 0.92957746 0.30985915 0.78873239 0.84507042\n",
      " 0.18309859 0.26760563 0.73239437 0.54929577 0.81690141 0.32394366\n",
      " 0.6056338  0.25352113 0.74647887 0.70422535 0.35211268 0.53521127]\n",
      "PhoneService : [0 1]\n",
      "MultipleLines : [0 1]\n",
      "OnlineSecurity : [0 1]\n",
      "OnlineBackup : [1 0]\n",
      "DeviceProtection : [0 1]\n",
      "TechSupport : [0 1]\n",
      "StreamingTV : [0 1]\n",
      "StreamingMovies : [0 1]\n",
      "PaperlessBilling : [1 0]\n",
      "MonthlyCharges : [0.11542289 0.38507463 0.35422886 ... 0.44626866 0.25820896 0.60149254]\n",
      "TotalCharges : [0.0012751  0.21586661 0.01031041 ... 0.03780868 0.03321025 0.78764136]\n",
      "Churn : [0 1]\n",
      "InternetService_DSL : [1 0]\n",
      "InternetService_Fiber optic : [0 1]\n",
      "InternetService_No : [0 1]\n",
      "Contract_Month-to-month : [1 0]\n",
      "Contract_One year : [0 1]\n",
      "Contract_Two year : [0 1]\n",
      "PaymentMethod_Bank transfer (automatic) : [0 1]\n",
      "PaymentMethod_Credit card (automatic) : [0 1]\n",
      "PaymentMethod_Electronic check : [1 0]\n",
      "PaymentMethod_Mailed check : [0 1]\n"
     ]
    }
   ],
   "source": [
    "print_unique_col_values(df1)"
   ]
  },
  {
   "cell_type": "code",
   "execution_count": 16,
   "metadata": {},
   "outputs": [
    {
     "data": {
      "text/plain": [
       "0    5163\n",
       "1    1869\n",
       "Name: Churn, dtype: int64"
      ]
     },
     "execution_count": 16,
     "metadata": {},
     "output_type": "execute_result"
    }
   ],
   "source": [
    "#Drop churn \n",
    "x = df1.drop('Churn',axis=1)  #check axis=0/1\n",
    "y = df1['Churn']\n",
    "y.value_counts()"
   ]
  },
  {
   "cell_type": "code",
   "execution_count": 17,
   "metadata": {},
   "outputs": [],
   "source": [
    "#test and train split. 80% for training and 20% for test\n",
    "\n",
    "X_train, X_test, y_train, y_test = train_test_split(x,y,test_size=0.2,random_state=5)"
   ]
  },
  {
   "cell_type": "code",
   "execution_count": 18,
   "metadata": {},
   "outputs": [],
   "source": [
    "X_train, X_val, y_train, y_val = train_test_split(X_train,y_train,test_size=0.2,random_state=5)"
   ]
  },
  {
   "cell_type": "code",
   "execution_count": 19,
   "metadata": {},
   "outputs": [
    {
     "data": {
      "text/plain": [
       "0    3329\n",
       "1    1171\n",
       "Name: Churn, dtype: int64"
      ]
     },
     "execution_count": 19,
     "metadata": {},
     "output_type": "execute_result"
    }
   ],
   "source": [
    "y_train.value_counts()"
   ]
  },
  {
   "cell_type": "code",
   "execution_count": 20,
   "metadata": {},
   "outputs": [
    {
     "data": {
      "text/plain": [
       "0    835\n",
       "1    290\n",
       "Name: Churn, dtype: int64"
      ]
     },
     "execution_count": 20,
     "metadata": {},
     "output_type": "execute_result"
    }
   ],
   "source": [
    "y_val.value_counts()"
   ]
  },
  {
   "cell_type": "code",
   "execution_count": 21,
   "metadata": {},
   "outputs": [
    {
     "data": {
      "text/plain": [
       "0    999\n",
       "1    408\n",
       "Name: Churn, dtype: int64"
      ]
     },
     "execution_count": 21,
     "metadata": {},
     "output_type": "execute_result"
    }
   ],
   "source": [
    "y_test.value_counts()"
   ]
  },
  {
   "cell_type": "code",
   "execution_count": 22,
   "metadata": {},
   "outputs": [
    {
     "data": {
      "text/plain": [
       "26"
      ]
     },
     "execution_count": 22,
     "metadata": {},
     "output_type": "execute_result"
    }
   ],
   "source": [
    "num_of_cols = len(x.columns)\n",
    "num_of_cols"
   ]
  },
  {
   "cell_type": "code",
   "execution_count": 23,
   "metadata": {},
   "outputs": [],
   "source": [
    "X_train=X_train.values.reshape(X_train.shape[0],num_of_cols, 1).astype('float32') \n",
    "X_test=X_test.values.reshape(X_test.shape[0],num_of_cols, 1).astype('float32')\n",
    "X_val=X_val.values.reshape(X_val.shape[0],num_of_cols, 1).astype('float32')\n",
    "\n",
    "#sometimes works as X_val.values.reshape(X_val.shape[0],26, 1).astype('float32')"
   ]
  },
  {
   "cell_type": "code",
   "execution_count": 24,
   "metadata": {
    "scrolled": true
   },
   "outputs": [
    {
     "data": {
      "text/plain": [
       "(1407, 26, 1)"
      ]
     },
     "execution_count": 24,
     "metadata": {},
     "output_type": "execute_result"
    }
   ],
   "source": [
    "X_test.shape"
   ]
  },
  {
   "cell_type": "code",
   "execution_count": 25,
   "metadata": {},
   "outputs": [
    {
     "data": {
      "text/plain": [
       "(1125, 26, 1)"
      ]
     },
     "execution_count": 25,
     "metadata": {},
     "output_type": "execute_result"
    }
   ],
   "source": [
    "X_val.shape"
   ]
  },
  {
   "cell_type": "code",
   "execution_count": 26,
   "metadata": {},
   "outputs": [
    {
     "data": {
      "text/plain": [
       "(4500, 26, 1)"
      ]
     },
     "execution_count": 26,
     "metadata": {},
     "output_type": "execute_result"
    }
   ],
   "source": [
    "X_train.shape"
   ]
  },
  {
   "cell_type": "code",
   "execution_count": 27,
   "metadata": {},
   "outputs": [
    {
     "name": "stdout",
     "output_type": "stream",
     "text": [
      "Train on 4500 samples, validate on 1125 samples\n",
      "Epoch 1/70\n",
      " 375/4500 [=>............................] - ETA: 1:08 - loss: 0.7029 - accuracy: 0.3387WARNING:tensorflow:Method (on_train_batch_end) is slow compared to the batch update (0.275595). Check your callbacks.\n",
      "4500/4500 [==============================] - 10s 2ms/sample - loss: 0.5958 - accuracy: 0.7064 - val_loss: 0.5617 - val_accuracy: 0.7422\n",
      "Epoch 2/70\n",
      "4500/4500 [==============================] - 2s 415us/sample - loss: 0.5543 - accuracy: 0.7398 - val_loss: 0.5395 - val_accuracy: 0.7422\n",
      "Epoch 3/70\n",
      "4500/4500 [==============================] - 2s 494us/sample - loss: 0.5266 - accuracy: 0.7398 - val_loss: 0.5071 - val_accuracy: 0.7422\n",
      "Epoch 4/70\n",
      "4500/4500 [==============================] - 2s 459us/sample - loss: 0.4909 - accuracy: 0.7456 - val_loss: 0.4726 - val_accuracy: 0.7591\n",
      "Epoch 5/70\n",
      "4500/4500 [==============================] - 3s 570us/sample - loss: 0.4596 - accuracy: 0.7764 - val_loss: 0.4559 - val_accuracy: 0.7822\n",
      "Epoch 6/70\n",
      "4500/4500 [==============================] - 2s 438us/sample - loss: 0.4469 - accuracy: 0.7829 - val_loss: 0.4458 - val_accuracy: 0.7849\n",
      "Epoch 7/70\n",
      "4500/4500 [==============================] - 2s 361us/sample - loss: 0.4359 - accuracy: 0.7933 - val_loss: 0.4397 - val_accuracy: 0.7858\n",
      "Epoch 8/70\n",
      "4500/4500 [==============================] - 2s 477us/sample - loss: 0.4312 - accuracy: 0.7922 - val_loss: 0.4337 - val_accuracy: 0.7876\n",
      "Epoch 9/70\n",
      "4500/4500 [==============================] - 2s 385us/sample - loss: 0.4275 - accuracy: 0.7967 - val_loss: 0.4306 - val_accuracy: 0.7902\n",
      "Epoch 10/70\n",
      "4500/4500 [==============================] - 2s 438us/sample - loss: 0.4257 - accuracy: 0.7964 - val_loss: 0.4271 - val_accuracy: 0.7929\n",
      "Epoch 11/70\n",
      "4500/4500 [==============================] - 1s 330us/sample - loss: 0.4221 - accuracy: 0.7969 - val_loss: 0.4277 - val_accuracy: 0.7920\n",
      "Epoch 12/70\n",
      "4500/4500 [==============================] - 2s 396us/sample - loss: 0.4193 - accuracy: 0.8000 - val_loss: 0.4235 - val_accuracy: 0.7956\n",
      "Epoch 13/70\n",
      "4500/4500 [==============================] - 2s 467us/sample - loss: 0.4231 - accuracy: 0.7960 - val_loss: 0.4261 - val_accuracy: 0.7947\n",
      "Epoch 14/70\n",
      "4500/4500 [==============================] - 2s 478us/sample - loss: 0.4186 - accuracy: 0.8016 - val_loss: 0.4199 - val_accuracy: 0.7973\n",
      "Epoch 15/70\n",
      "4500/4500 [==============================] - 2s 394us/sample - loss: 0.4160 - accuracy: 0.8029 - val_loss: 0.4194 - val_accuracy: 0.7938\n",
      "Epoch 16/70\n",
      "4500/4500 [==============================] - 1s 302us/sample - loss: 0.4151 - accuracy: 0.8007 - val_loss: 0.4178 - val_accuracy: 0.8009\n",
      "Epoch 17/70\n",
      "4500/4500 [==============================] - 1s 279us/sample - loss: 0.4136 - accuracy: 0.8049 - val_loss: 0.4155 - val_accuracy: 0.8053\n",
      "Epoch 18/70\n",
      "4500/4500 [==============================] - 1s 278us/sample - loss: 0.4106 - accuracy: 0.8020 - val_loss: 0.4153 - val_accuracy: 0.7982\n",
      "Epoch 19/70\n",
      "4500/4500 [==============================] - 2s 360us/sample - loss: 0.4091 - accuracy: 0.8027 - val_loss: 0.4138 - val_accuracy: 0.8071\n",
      "Epoch 20/70\n",
      "4500/4500 [==============================] - 2s 335us/sample - loss: 0.4077 - accuracy: 0.8044 - val_loss: 0.4202 - val_accuracy: 0.7938\n",
      "Epoch 21/70\n",
      "4500/4500 [==============================] - 1s 304us/sample - loss: 0.4062 - accuracy: 0.8040 - val_loss: 0.4132 - val_accuracy: 0.8036\n",
      "Epoch 22/70\n",
      "4500/4500 [==============================] - 1s 297us/sample - loss: 0.4067 - accuracy: 0.8042 - val_loss: 0.4116 - val_accuracy: 0.8000\n",
      "Epoch 23/70\n",
      "4500/4500 [==============================] - 2s 485us/sample - loss: 0.4085 - accuracy: 0.8060 - val_loss: 0.4138 - val_accuracy: 0.7991\n",
      "Epoch 24/70\n",
      "4500/4500 [==============================] - 2s 446us/sample - loss: 0.4056 - accuracy: 0.8089 - val_loss: 0.4171 - val_accuracy: 0.7964\n",
      "Epoch 25/70\n",
      "4500/4500 [==============================] - 2s 383us/sample - loss: 0.4097 - accuracy: 0.8047 - val_loss: 0.4154 - val_accuracy: 0.7929\n",
      "Epoch 26/70\n",
      "4500/4500 [==============================] - 2s 371us/sample - loss: 0.4078 - accuracy: 0.8084 - val_loss: 0.4101 - val_accuracy: 0.8027\n",
      "Epoch 27/70\n",
      "4500/4500 [==============================] - 1s 309us/sample - loss: 0.4007 - accuracy: 0.8089 - val_loss: 0.4093 - val_accuracy: 0.8036\n",
      "Epoch 28/70\n",
      "4500/4500 [==============================] - 1s 299us/sample - loss: 0.4017 - accuracy: 0.8131 - val_loss: 0.4102 - val_accuracy: 0.8080\n",
      "Epoch 29/70\n",
      "4500/4500 [==============================] - 1s 319us/sample - loss: 0.4017 - accuracy: 0.8096 - val_loss: 0.4108 - val_accuracy: 0.8053\n",
      "Epoch 30/70\n",
      "4500/4500 [==============================] - 2s 344us/sample - loss: 0.3972 - accuracy: 0.8144 - val_loss: 0.4091 - val_accuracy: 0.8062\n",
      "Epoch 31/70\n",
      "4500/4500 [==============================] - 1s 309us/sample - loss: 0.3968 - accuracy: 0.8147 - val_loss: 0.4093 - val_accuracy: 0.8062\n",
      "Epoch 32/70\n",
      "4500/4500 [==============================] - 1s 329us/sample - loss: 0.3962 - accuracy: 0.8120 - val_loss: 0.4110 - val_accuracy: 0.8062\n",
      "Epoch 33/70\n",
      "4500/4500 [==============================] - 1s 319us/sample - loss: 0.3975 - accuracy: 0.8133 - val_loss: 0.4156 - val_accuracy: 0.8071\n",
      "Epoch 34/70\n",
      "4500/4500 [==============================] - 1s 251us/sample - loss: 0.4028 - accuracy: 0.8098 - val_loss: 0.4240 - val_accuracy: 0.7929\n",
      "Epoch 35/70\n",
      "4500/4500 [==============================] - 1s 273us/sample - loss: 0.4007 - accuracy: 0.8100 - val_loss: 0.4110 - val_accuracy: 0.8080\n",
      "Epoch 36/70\n",
      "4500/4500 [==============================] - 1s 297us/sample - loss: 0.3962 - accuracy: 0.8104 - val_loss: 0.4086 - val_accuracy: 0.8018\n",
      "Epoch 37/70\n",
      "4500/4500 [==============================] - 1s 274us/sample - loss: 0.3937 - accuracy: 0.8167 - val_loss: 0.4095 - val_accuracy: 0.8009\n",
      "Epoch 38/70\n",
      "4500/4500 [==============================] - 2s 428us/sample - loss: 0.3917 - accuracy: 0.8149 - val_loss: 0.4097 - val_accuracy: 0.8027\n",
      "Epoch 39/70\n",
      "4500/4500 [==============================] - 2s 399us/sample - loss: 0.3915 - accuracy: 0.8158 - val_loss: 0.4092 - val_accuracy: 0.8098\n",
      "Epoch 40/70\n",
      "4500/4500 [==============================] - 1s 298us/sample - loss: 0.3911 - accuracy: 0.8176 - val_loss: 0.4097 - val_accuracy: 0.8044\n",
      "Epoch 41/70\n",
      "4500/4500 [==============================] - 1s 310us/sample - loss: 0.3909 - accuracy: 0.8158 - val_loss: 0.4079 - val_accuracy: 0.8107\n",
      "Epoch 42/70\n",
      "4500/4500 [==============================] - 2s 378us/sample - loss: 0.3892 - accuracy: 0.8182 - val_loss: 0.4122 - val_accuracy: 0.8062\n",
      "Epoch 43/70\n",
      "4500/4500 [==============================] - 2s 354us/sample - loss: 0.3892 - accuracy: 0.8202 - val_loss: 0.4079 - val_accuracy: 0.8071\n",
      "Epoch 44/70\n",
      "4500/4500 [==============================] - 1s 308us/sample - loss: 0.3898 - accuracy: 0.8164 - val_loss: 0.4094 - val_accuracy: 0.8027\n",
      "Epoch 45/70\n",
      "4500/4500 [==============================] - 1s 294us/sample - loss: 0.3901 - accuracy: 0.8151 - val_loss: 0.4136 - val_accuracy: 0.7964\n",
      "Epoch 46/70\n",
      "4500/4500 [==============================] - 2s 337us/sample - loss: 0.3869 - accuracy: 0.8218 - val_loss: 0.4099 - val_accuracy: 0.8009\n",
      "Epoch 47/70\n",
      "4500/4500 [==============================] - 2s 387us/sample - loss: 0.3878 - accuracy: 0.8182 - val_loss: 0.4151 - val_accuracy: 0.7920\n",
      "Epoch 48/70\n",
      "4500/4500 [==============================] - 2s 359us/sample - loss: 0.3936 - accuracy: 0.8147 - val_loss: 0.4157 - val_accuracy: 0.7938\n",
      "Epoch 49/70\n",
      "4500/4500 [==============================] - 2s 402us/sample - loss: 0.3864 - accuracy: 0.8191 - val_loss: 0.4170 - val_accuracy: 0.7947\n",
      "Epoch 50/70\n",
      "4500/4500 [==============================] - 1s 305us/sample - loss: 0.3864 - accuracy: 0.8191 - val_loss: 0.4091 - val_accuracy: 0.8044\n",
      "Epoch 51/70\n",
      "4500/4500 [==============================] - 2s 392us/sample - loss: 0.3839 - accuracy: 0.8238 - val_loss: 0.4149 - val_accuracy: 0.8080\n",
      "Epoch 52/70\n",
      "4500/4500 [==============================] - 1s 323us/sample - loss: 0.3866 - accuracy: 0.8147 - val_loss: 0.4124 - val_accuracy: 0.7991\n",
      "Epoch 53/70\n",
      "4500/4500 [==============================] - 2s 366us/sample - loss: 0.3849 - accuracy: 0.8220 - val_loss: 0.4213 - val_accuracy: 0.7884\n",
      "Epoch 54/70\n",
      "4500/4500 [==============================] - 2s 483us/sample - loss: 0.3839 - accuracy: 0.8238 - val_loss: 0.4147 - val_accuracy: 0.7938\n",
      "Epoch 55/70\n",
      "4500/4500 [==============================] - 1s 289us/sample - loss: 0.3829 - accuracy: 0.8247 - val_loss: 0.4113 - val_accuracy: 0.7991\n",
      "Epoch 56/70\n",
      "4500/4500 [==============================] - 1s 322us/sample - loss: 0.3843 - accuracy: 0.8200 - val_loss: 0.4116 - val_accuracy: 0.8053\n",
      "Epoch 57/70\n",
      "4500/4500 [==============================] - 1s 275us/sample - loss: 0.3850 - accuracy: 0.8151 - val_loss: 0.4124 - val_accuracy: 0.8053\n",
      "Epoch 58/70\n",
      "4500/4500 [==============================] - 1s 331us/sample - loss: 0.3806 - accuracy: 0.8229 - val_loss: 0.4126 - val_accuracy: 0.8018\n",
      "Epoch 59/70\n",
      "4500/4500 [==============================] - 3s 583us/sample - loss: 0.3794 - accuracy: 0.8262 - val_loss: 0.4105 - val_accuracy: 0.8062\n",
      "Epoch 60/70\n",
      "4500/4500 [==============================] - 1s 277us/sample - loss: 0.3815 - accuracy: 0.8178 - val_loss: 0.4120 - val_accuracy: 0.8018\n",
      "Epoch 61/70\n",
      "4500/4500 [==============================] - 2s 345us/sample - loss: 0.3795 - accuracy: 0.8180 - val_loss: 0.4144 - val_accuracy: 0.8053\n",
      "Epoch 62/70\n",
      "4500/4500 [==============================] - 2s 372us/sample - loss: 0.3778 - accuracy: 0.8222 - val_loss: 0.4159 - val_accuracy: 0.8044\n",
      "Epoch 63/70\n",
      "4500/4500 [==============================] - 1s 329us/sample - loss: 0.3774 - accuracy: 0.8242 - val_loss: 0.4250 - val_accuracy: 0.8027\n",
      "Epoch 64/70\n",
      "4500/4500 [==============================] - 1s 284us/sample - loss: 0.3774 - accuracy: 0.8231 - val_loss: 0.4173 - val_accuracy: 0.8053\n",
      "Epoch 65/70\n",
      "4500/4500 [==============================] - 1s 316us/sample - loss: 0.3773 - accuracy: 0.8211 - val_loss: 0.4191 - val_accuracy: 0.7929\n",
      "Epoch 66/70\n",
      "4500/4500 [==============================] - 1s 325us/sample - loss: 0.3777 - accuracy: 0.8227 - val_loss: 0.4151 - val_accuracy: 0.8044\n",
      "Epoch 67/70\n",
      "4500/4500 [==============================] - 1s 269us/sample - loss: 0.3778 - accuracy: 0.8244 - val_loss: 0.4163 - val_accuracy: 0.8053\n",
      "Epoch 68/70\n",
      "4500/4500 [==============================] - 1s 274us/sample - loss: 0.3777 - accuracy: 0.8213 - val_loss: 0.4189 - val_accuracy: 0.7947\n",
      "Epoch 69/70\n",
      "4500/4500 [==============================] - 1s 330us/sample - loss: 0.3777 - accuracy: 0.8256 - val_loss: 0.4146 - val_accuracy: 0.8000\n",
      "Epoch 70/70\n",
      "4500/4500 [==============================] - 1s 310us/sample - loss: 0.3757 - accuracy: 0.8231 - val_loss: 0.4265 - val_accuracy: 0.8009\n"
     ]
    },
    {
     "data": {
      "text/plain": [
       "<tensorflow.python.keras.callbacks.History at 0x223065b5108>"
      ]
     },
     "execution_count": 27,
     "metadata": {},
     "output_type": "execute_result"
    }
   ],
   "source": [
    "Name = \"CNN_{}\".format(int(time.time())) \n",
    "log_dir=\"E:\\\\SnehaWork\\\\AIProject\\\\TF_Logs\\\\{}\".format(Name)\n",
    "cnn = models.Sequential([\n",
    "    layers.Conv1D(filters=128, kernel_size=3, activation='relu', input_shape=(26,1)),  \n",
    "    layers.MaxPooling1D(pool_size=3),\n",
    "    \n",
    "    layers.Conv1D(filters=128, kernel_size=3, activation='relu'),\n",
    "    layers.MaxPooling1D(pool_size=3),\n",
    "    \n",
    "    layers.Flatten(),\n",
    "    layers.Dense(20, activation='relu'),\n",
    "    layers.Dense(1, activation='sigmoid')\n",
    "])\n",
    "\n",
    "#cnn.summary()\n",
    "tb_callback = tf.keras.callbacks.TensorBoard(log_dir=log_dir,histogram_freq=0)\n",
    "\n",
    "cnn.compile(optimizer='Adam',loss='binary_crossentropy',metrics=['accuracy'])\n",
    "\n",
    "cnn.fit(X_train, y_train, validation_data=(X_val,y_val), batch_size=375,epochs=70, callbacks=[tb_callback])"
   ]
  },
  {
   "cell_type": "code",
   "execution_count": 28,
   "metadata": {},
   "outputs": [
    {
     "name": "stdout",
     "output_type": "stream",
     "text": [
      "1407/1407 [==============================] - 1s 406us/sample - loss: 0.4698 - accuracy: 0.7733\n"
     ]
    },
    {
     "data": {
      "text/plain": [
       "[0.4698187781930732, 0.77327645]"
      ]
     },
     "execution_count": 28,
     "metadata": {},
     "output_type": "execute_result"
    }
   ],
   "source": [
    "cnn.evaluate(X_test,y_test,batch_size=375)"
   ]
  },
  {
   "cell_type": "code",
   "execution_count": 29,
   "metadata": {},
   "outputs": [],
   "source": [
    "yp = cnn.predict(X_test)\n",
    "#yp[:5]"
   ]
  },
  {
   "cell_type": "code",
   "execution_count": 30,
   "metadata": {},
   "outputs": [],
   "source": [
    "#converting decimal into 0 and 1\n",
    "y_pred = []\n",
    "for i in yp:\n",
    "    if i>0.5:\n",
    "        y_pred.append(1)\n",
    "    else:\n",
    "        y_pred.append(0)"
   ]
  },
  {
   "cell_type": "code",
   "execution_count": 31,
   "metadata": {},
   "outputs": [],
   "source": [
    "#y_pred[:10]"
   ]
  },
  {
   "cell_type": "code",
   "execution_count": 32,
   "metadata": {},
   "outputs": [],
   "source": [
    "#y_test[:10]"
   ]
  },
  {
   "cell_type": "code",
   "execution_count": 33,
   "metadata": {},
   "outputs": [
    {
     "name": "stdout",
     "output_type": "stream",
     "text": [
      "              precision    recall  f1-score   support\n",
      "\n",
      "           0       0.79      0.92      0.85       999\n",
      "           1       0.68      0.41      0.51       408\n",
      "\n",
      "    accuracy                           0.77      1407\n",
      "   macro avg       0.74      0.67      0.68      1407\n",
      "weighted avg       0.76      0.77      0.75      1407\n",
      "\n"
     ]
    }
   ],
   "source": [
    "from sklearn.metrics import confusion_matrix, classification_report\n",
    "\n",
    "print(classification_report(y_test,y_pred))"
   ]
  },
  {
   "cell_type": "code",
   "execution_count": 34,
   "metadata": {},
   "outputs": [
    {
     "data": {
      "text/plain": [
       "<tf.Tensor: shape=(2, 2), dtype=int32, numpy=\n",
       "array([[919,  80],\n",
       "       [239, 169]])>"
      ]
     },
     "execution_count": 34,
     "metadata": {},
     "output_type": "execute_result"
    },
    {
     "data": {
      "image/png": "[encoded data removed]",
      "text/plain": [
       "<Figure size 504x288 with 2 Axes>"
      ]
     },
     "metadata": {
      "needs_background": "light"
     },
     "output_type": "display_data"
    }
   ],
   "source": [
    "import seaborn as sn\n",
    "cm = tf.math.confusion_matrix(labels=y_test,predictions=y_pred)\n",
    "\n",
    "plt.figure(figsize = (7,4))\n",
    "sn.heatmap(cm, annot=True, fmt='d')\n",
    "plt.xlabel('Predicted')\n",
    "plt.ylabel('Truth')\n",
    "tf.math.confusion_matrix(labels=y_test,predictions=y_pred)"
   ]
  },
  {
   "cell_type": "code",
   "execution_count": 35,
   "metadata": {},
   "outputs": [],
   "source": [
    "#conda install tensorboard\n"
   ]
  },
  {
   "cell_type": "code",
   "execution_count": 36,
   "metadata": {},
   "outputs": [
    {
     "data": {
      "text/plain": [
       "Reusing TensorBoard on port 6006 (pid 15092), started 3 days, 20:38:59 ago. (Use '!kill 15092' to kill it.)"
      ]
     },
     "metadata": {},
     "output_type": "display_data"
    },
    {
     "data": {
      "text/html": [
       "\n",
       "      <iframe id=\"tensorboard-frame-e5be0157b79b550f\" width=\"100%\" height=\"800\" frameborder=\"0\">\n",
       "      </iframe>\n",
       "      <script>\n",
       "        (function() {\n",
       "          const frame = document.getElementById(\"tensorboard-frame-e5be0157b79b550f\");\n",
       "          const url = new URL(\"/\", window.location);\n",
       "          const port = 6006;\n",
       "          if (port) {\n",
       "            url.port = port;\n",
       "          }\n",
       "          frame.src = url;\n",
       "        })();\n",
       "      </script>\n",
       "    "
      ],
      "text/plain": [
       "<IPython.core.display.HTML object>"
      ]
     },
     "metadata": {},
     "output_type": "display_data"
    }
   ],
   "source": [
    "%load_ext tensorboard\n",
    "%tensorboard --logdir log_dir\n",
    "#The tensorboard extension is already loaded. To reload it, use:\n",
    "#%reload_ext tensorboard\n",
    "#%tensorboard --logdir log_dir\n",
    "\n",
    "#taskkill /F /PID 15092"
   ]
  },
  {
   "cell_type": "code",
   "execution_count": null,
   "metadata": {},
   "outputs": [],
   "source": []
  },
  {
   "cell_type": "code",
   "execution_count": 37,
   "metadata": {},
   "outputs": [
    {
     "data": {
      "text/plain": [
       "array([[[1.],\n",
       "        [0.],\n",
       "        [1.],\n",
       "        ...,\n",
       "        [0.],\n",
       "        [1.],\n",
       "        [0.]],\n",
       "\n",
       "       [[0.],\n",
       "        [0.],\n",
       "        [1.],\n",
       "        ...,\n",
       "        [0.],\n",
       "        [1.],\n",
       "        [0.]],\n",
       "\n",
       "       [[0.],\n",
       "        [0.],\n",
       "        [0.],\n",
       "        ...,\n",
       "        [0.],\n",
       "        [0.],\n",
       "        [1.]],\n",
       "\n",
       "       ...,\n",
       "\n",
       "       [[0.],\n",
       "        [0.],\n",
       "        [0.],\n",
       "        ...,\n",
       "        [0.],\n",
       "        [0.],\n",
       "        [1.]],\n",
       "\n",
       "       [[0.],\n",
       "        [0.],\n",
       "        [1.],\n",
       "        ...,\n",
       "        [0.],\n",
       "        [0.],\n",
       "        [0.]],\n",
       "\n",
       "       [[1.],\n",
       "        [0.],\n",
       "        [0.],\n",
       "        ...,\n",
       "        [0.],\n",
       "        [0.],\n",
       "        [0.]]], dtype=float32)"
      ]
     },
     "execution_count": 37,
     "metadata": {},
     "output_type": "execute_result"
    }
   ],
   "source": [
    "X_train"
   ]
  },
  {
   "cell_type": "code",
   "execution_count": null,
   "metadata": {},
   "outputs": [],
   "source": []
  }
 ],
 "metadata": {
  "kernelspec": {
   "display_name": "Python 3",
   "language": "python",
   "name": "python3"
  },
  "language_info": {
   "codemirror_mode": {
    "name": "ipython",
    "version": 3
   },
   "file_extension": ".py",
   "mimetype": "text/x-python",
   "name": "python",
   "nbconvert_exporter": "python",
   "pygments_lexer": "ipython3",
   "version": "3.7.4"
  }
 },
 "nbformat": 4,
 "nbformat_minor": 2
}
